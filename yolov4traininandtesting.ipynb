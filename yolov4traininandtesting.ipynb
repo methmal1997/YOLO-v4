{
 "cells": [
  {
   "cell_type": "code",
   "execution_count": 1,
   "metadata": {
    "colab": {
     "base_uri": "https://localhost:8080/"
    },
    "executionInfo": {
     "elapsed": 1454,
     "status": "ok",
     "timestamp": 1619383553045,
     "user": {
      "displayName": "aarohi singla",
      "photoUrl": "https://lh3.googleusercontent.com/a-/AOh14GinVCmwIxUkk-7DI-N-IjLYQXXaxNYurSisyuBV=s64",
      "userId": "04137326103189398196"
     },
     "user_tz": -330
    },
    "id": "HxtgV63XZBKN",
    "outputId": "2cf02c35-06ba-4b66-87ba-1150283c2580"
   },
   "outputs": [
    {
     "name": "stdout",
     "output_type": "stream",
     "text": [
      "[WinError 2] The system cannot find the file specified: 'YOLO-v4'\n",
      "D:\\uc file\\Intern ship\\projects\\month\\YOLO-v4\n"
     ]
    }
   ],
   "source": [
    "%cd YOLO-v4"
   ]
  },
  {
   "cell_type": "code",
   "execution_count": 2,
   "metadata": {
    "executionInfo": {
     "elapsed": 1161,
     "status": "ok",
     "timestamp": 1619383553045,
     "user": {
      "displayName": "aarohi singla",
      "photoUrl": "https://lh3.googleusercontent.com/a-/AOh14GinVCmwIxUkk-7DI-N-IjLYQXXaxNYurSisyuBV=s64",
      "userId": "04137326103189398196"
     },
     "user_tz": -330
    },
    "id": "DkjQigUSYRY4"
   },
   "outputs": [
    {
     "name": "stderr",
     "output_type": "stream",
     "text": [
      "Cloning into 'darknet'...\n",
      "Updating files:  42% (871/2050)\n",
      "Updating files:  43% (882/2050)\n",
      "Updating files:  44% (902/2050)\n",
      "Updating files:  45% (923/2050)\n",
      "Updating files:  46% (943/2050)\n",
      "Updating files:  47% (964/2050)\n",
      "Updating files:  48% (984/2050)\n",
      "Updating files:  49% (1005/2050)\n",
      "Updating files:  50% (1025/2050)\n",
      "Updating files:  51% (1046/2050)\n",
      "Updating files:  52% (1066/2050)\n",
      "Updating files:  53% (1087/2050)\n",
      "Updating files:  54% (1107/2050)\n",
      "Updating files:  55% (1128/2050)\n",
      "Updating files:  56% (1148/2050)\n",
      "Updating files:  57% (1169/2050)\n",
      "Updating files:  58% (1189/2050)\n",
      "Updating files:  59% (1210/2050)\n",
      "Updating files:  60% (1230/2050)\n",
      "Updating files:  61% (1251/2050)\n",
      "Updating files:  62% (1271/2050)\n",
      "Updating files:  63% (1292/2050)\n",
      "Updating files:  64% (1312/2050)\n",
      "Updating files:  65% (1333/2050)\n",
      "Updating files:  66% (1353/2050)\n",
      "Updating files:  67% (1374/2050)\n",
      "Updating files:  68% (1394/2050)\n",
      "Updating files:  69% (1415/2050)\n",
      "Updating files:  70% (1435/2050)\n",
      "Updating files:  71% (1456/2050)\n",
      "Updating files:  72% (1476/2050)\n",
      "Updating files:  73% (1497/2050)\n",
      "Updating files:  74% (1517/2050)\n",
      "Updating files:  75% (1538/2050)\n",
      "Updating files:  76% (1558/2050)\n",
      "Updating files:  77% (1579/2050)\n",
      "Updating files:  78% (1599/2050)\n",
      "Updating files:  79% (1620/2050)\n",
      "Updating files:  80% (1640/2050)\n",
      "Updating files:  81% (1661/2050)\n",
      "Updating files:  82% (1681/2050)\n",
      "Updating files:  83% (1702/2050)\n",
      "Updating files:  84% (1722/2050)\n",
      "Updating files:  85% (1743/2050)\n",
      "Updating files:  86% (1763/2050)\n",
      "Updating files:  87% (1784/2050)\n",
      "Updating files:  88% (1804/2050)\n",
      "Updating files:  89% (1825/2050)\n",
      "Updating files:  90% (1845/2050)\n",
      "Updating files:  91% (1866/2050)\n",
      "Updating files:  91% (1883/2050)\n",
      "Updating files:  92% (1886/2050)\n",
      "Updating files:  93% (1907/2050)\n",
      "Updating files:  94% (1927/2050)\n",
      "Updating files:  95% (1948/2050)\n",
      "Updating files:  96% (1968/2050)\n",
      "Updating files:  97% (1989/2050)\n",
      "Updating files:  98% (2009/2050)\n",
      "Updating files:  99% (2030/2050)\n",
      "Updating files: 100% (2050/2050)\n",
      "Updating files: 100% (2050/2050), done.\n"
     ]
    }
   ],
   "source": [
    "!git clone https://github.com/AlexeyAB/darknet"
   ]
  },
  {
   "cell_type": "code",
   "execution_count": null,
   "metadata": {
    "colab": {
     "base_uri": "https://localhost:8080/"
    },
    "executionInfo": {
     "elapsed": 1471,
     "status": "ok",
     "timestamp": 1619383553641,
     "user": {
      "displayName": "aarohi singla",
      "photoUrl": "https://lh3.googleusercontent.com/a-/AOh14GinVCmwIxUkk-7DI-N-IjLYQXXaxNYurSisyuBV=s64",
      "userId": "04137326103189398196"
     },
     "user_tz": -330
    },
    "id": "fPVwQsATdBWo",
    "outputId": "b05cf1c7-d460-4c13-a0bd-11be447a836f"
   },
   "outputs": [],
   "source": [
    "%cd darknet/\n",
    "!sed -i 's/OPENCV=0/OPENCV=1/' Makefile\n",
    "!sed -i 's/GPU=0/GPU=1/' Makefile\n",
    "!sed -i 's/CUDNN=0/CUDNN=1/' Makefile\n",
    "!sed -i 's/CUDNN_HALF=0/CUDNN_HALF=1/' Makefile\n",
    "!sed -i 's/LIBSO=0/LIBSO=1/' Makefile"
   ]
  },
  {
   "cell_type": "code",
   "execution_count": null,
   "metadata": {
    "executionInfo": {
     "elapsed": 1144,
     "status": "ok",
     "timestamp": 1619383553641,
     "user": {
      "displayName": "aarohi singla",
      "photoUrl": "https://lh3.googleusercontent.com/a-/AOh14GinVCmwIxUkk-7DI-N-IjLYQXXaxNYurSisyuBV=s64",
      "userId": "04137326103189398196"
     },
     "user_tz": -330
    },
    "id": "UP839PbhdC1Q"
   },
   "outputs": [],
   "source": [
    "#!make"
   ]
  },
  {
   "cell_type": "code",
   "execution_count": null,
   "metadata": {
    "colab": {
     "base_uri": "https://localhost:8080/"
    },
    "executionInfo": {
     "elapsed": 1422,
     "status": "ok",
     "timestamp": 1619383554250,
     "user": {
      "displayName": "aarohi singla",
      "photoUrl": "https://lh3.googleusercontent.com/a-/AOh14GinVCmwIxUkk-7DI-N-IjLYQXXaxNYurSisyuBV=s64",
      "userId": "04137326103189398196"
     },
     "user_tz": -330
    },
    "id": "7EXjLZuOdFqm",
    "outputId": "4c9071f7-12d0-4e71-d2fb-0d2bba3f2c53"
   },
   "outputs": [],
   "source": [
    "# run process.py file\n",
    "!python process.py"
   ]
  },
  {
   "cell_type": "code",
   "execution_count": null,
   "metadata": {
    "colab": {
     "base_uri": "https://localhost:8080/"
    },
    "executionInfo": {
     "elapsed": 1080,
     "status": "ok",
     "timestamp": 1619383554251,
     "user": {
      "displayName": "aarohi singla",
      "photoUrl": "https://lh3.googleusercontent.com/a-/AOh14GinVCmwIxUkk-7DI-N-IjLYQXXaxNYurSisyuBV=s64",
      "userId": "04137326103189398196"
     },
     "user_tz": -330
    },
    "id": "edXRLVBpfhMH",
    "outputId": "2a2db5c6-012b-4417-c504-b86ee829bec4"
   },
   "outputs": [],
   "source": [
    "!ls data/"
   ]
  },
  {
   "cell_type": "code",
   "execution_count": null,
   "metadata": {
    "executionInfo": {
     "elapsed": 1348,
     "status": "ok",
     "timestamp": 1619383554838,
     "user": {
      "displayName": "aarohi singla",
      "photoUrl": "https://lh3.googleusercontent.com/a-/AOh14GinVCmwIxUkk-7DI-N-IjLYQXXaxNYurSisyuBV=s64",
      "userId": "04137326103189398196"
     },
     "user_tz": -330
    },
    "id": "CmH0T_Wcfvo5"
   },
   "outputs": [],
   "source": [
    "# Here we use transfer learning. Instead of training a model from scratch, we use pre-trained YOLOv4 weights which have been trained up to 137 convolutional layers. Run the following command to download the YOLOv4 pre-trained weights file.\n",
    "#!wget https://github.com/AlexeyAB/darknet/releases/download/darknet_yolo_v3_optimal/yolov4.conv.137"
   ]
  },
  {
   "cell_type": "code",
   "execution_count": null,
   "metadata": {
    "executionInfo": {
     "elapsed": 931,
     "status": "ok",
     "timestamp": 1619383555165,
     "user": {
      "displayName": "aarohi singla",
      "photoUrl": "https://lh3.googleusercontent.com/a-/AOh14GinVCmwIxUkk-7DI-N-IjLYQXXaxNYurSisyuBV=s64",
      "userId": "04137326103189398196"
     },
     "user_tz": -330
    },
    "id": "gDVgC-QDg0F7"
   },
   "outputs": [],
   "source": [
    "!chmod +x ./darknet"
   ]
  },
  {
   "cell_type": "code",
   "execution_count": null,
   "metadata": {
    "executionInfo": {
     "elapsed": 798,
     "status": "ok",
     "timestamp": 1619383557064,
     "user": {
      "displayName": "aarohi singla",
      "photoUrl": "https://lh3.googleusercontent.com/a-/AOh14GinVCmwIxUkk-7DI-N-IjLYQXXaxNYurSisyuBV=s64",
      "userId": "04137326103189398196"
     },
     "user_tz": -330
    },
    "id": "1Vdi0CVVfzlA"
   },
   "outputs": [],
   "source": [
    "#!./darknet detector train data/obj.data cfg/yolov4-custom.cfg yolov4.conv.137 -dont_show -map"
   ]
  },
  {
   "cell_type": "code",
   "execution_count": null,
   "metadata": {
    "colab": {
     "base_uri": "https://localhost:8080/"
    },
    "executionInfo": {
     "elapsed": 1768,
     "status": "ok",
     "timestamp": 1619383559029,
     "user": {
      "displayName": "aarohi singla",
      "photoUrl": "https://lh3.googleusercontent.com/a-/AOh14GinVCmwIxUkk-7DI-N-IjLYQXXaxNYurSisyuBV=s64",
      "userId": "04137326103189398196"
     },
     "user_tz": -330
    },
    "id": "YS0pwKFYguMC",
    "outputId": "c7b83d22-efaa-4e33-a246-3166d0d5d830"
   },
   "outputs": [],
   "source": [
    "%cd cfg\n",
    "!sed -i 's/batch=64/batch=1/' yolov4-custom.cfg\n",
    "!sed -i 's/subdivisions=16/subdivisions=1/' yolov4-custom.cfg\n",
    "%cd .."
   ]
  },
  {
   "cell_type": "code",
   "execution_count": null,
   "metadata": {
    "executionInfo": {
     "elapsed": 1252,
     "status": "ok",
     "timestamp": 1619383691880,
     "user": {
      "displayName": "aarohi singla",
      "photoUrl": "https://lh3.googleusercontent.com/a-/AOh14GinVCmwIxUkk-7DI-N-IjLYQXXaxNYurSisyuBV=s64",
      "userId": "04137326103189398196"
     },
     "user_tz": -330
    },
    "id": "ltldWmWJuNls"
   },
   "outputs": [],
   "source": [
    "# define helper functions\n",
    "def imShow(path):\n",
    "  import cv2\n",
    "  import matplotlib.pyplot as plt\n",
    "  %matplotlib inline\n",
    "\n",
    "  image = cv2.imread(path)\n",
    "  height, width = image.shape[:2]\n",
    "  resized_image = cv2.resize(image,(3*width, 3*height), interpolation = cv2.INTER_CUBIC)\n",
    "\n",
    "  fig = plt.gcf()\n",
    "  fig.set_size_inches(18, 10)\n",
    "  plt.axis(\"off\")\n",
    "  plt.imshow(cv2.cvtColor(resized_image, cv2.COLOR_BGR2RGB))\n",
    "  plt.show()\n",
    "\n",
    "# use this to upload files\n",
    "def upload():\n",
    "  from google.colab import files\n",
    "  uploaded = files.upload() \n",
    "  for name, data in uploaded.items():\n",
    "    with open(name, 'wb') as f:\n",
    "      f.write(data)\n",
    "      print ('saved file', name)\n",
    "\n",
    "# use this to download a file  \n",
    "def download(path):\n",
    "  from google.colab import files\n",
    "  files.download(path)"
   ]
  },
  {
   "cell_type": "code",
   "execution_count": null,
   "metadata": {
    "colab": {
     "base_uri": "https://localhost:8080/"
    },
    "executionInfo": {
     "elapsed": 129463,
     "status": "ok",
     "timestamp": 1619383690615,
     "user": {
      "displayName": "aarohi singla",
      "photoUrl": "https://lh3.googleusercontent.com/a-/AOh14GinVCmwIxUkk-7DI-N-IjLYQXXaxNYurSisyuBV=s64",
      "userId": "04137326103189398196"
     },
     "user_tz": -330
    },
    "id": "b_6UPxUiuCRj",
    "outputId": "d6d22dc9-feef-48cc-bce1-6919163d37d0"
   },
   "outputs": [],
   "source": [
    "!./darknet detector test data/obj.data cfg/yolov4-custom.cfg /mydrive/yolov4/training/yolov4-custom_best.weights /mydrive/mask_test_images/image1.jpg -thresh 0.3"
   ]
  },
  {
   "cell_type": "code",
   "execution_count": null,
   "metadata": {
    "colab": {
     "base_uri": "https://localhost:8080/",
     "height": 575
    },
    "executionInfo": {
     "elapsed": 4050,
     "status": "ok",
     "timestamp": 1619383694681,
     "user": {
      "displayName": "aarohi singla",
      "photoUrl": "https://lh3.googleusercontent.com/a-/AOh14GinVCmwIxUkk-7DI-N-IjLYQXXaxNYurSisyuBV=s64",
      "userId": "04137326103189398196"
     },
     "user_tz": -330
    },
    "id": "fL1966pSuYgT",
    "outputId": "4ed60d33-424a-4a26-dac5-9c16cc4991e0"
   },
   "outputs": [],
   "source": [
    "#can check the performance of all the trained weights by looking at the chart.png file. However, the chart.png file only shows results if the training does not get interrupted i.e. if you do not get disconnected or lose your session. If you restart training from a saved point, this will not work.\n",
    "\n",
    "imShow('chart.png')"
   ]
  },
  {
   "cell_type": "code",
   "execution_count": null,
   "metadata": {
    "colab": {
     "base_uri": "https://localhost:8080/",
     "height": 1000
    },
    "executionInfo": {
     "elapsed": 7895,
     "status": "ok",
     "timestamp": 1619383698527,
     "user": {
      "displayName": "aarohi singla",
      "photoUrl": "https://lh3.googleusercontent.com/a-/AOh14GinVCmwIxUkk-7DI-N-IjLYQXXaxNYurSisyuBV=s64",
      "userId": "04137326103189398196"
     },
     "user_tz": -330
    },
    "id": "ICk4f7WUuqwJ",
    "outputId": "39e2f021-4186-41dd-a01f-50d0b601f06a"
   },
   "outputs": [],
   "source": [
    "!./darknet detector test data/obj.data cfg/yolov4-custom.cfg /mydrive/yolov4/training/yolov4-custom_best.weights /mydrive/yolov4/test.jpg -thresh 0.3\n",
    "imShow('predictions.jpg')"
   ]
  },
  {
   "cell_type": "code",
   "execution_count": null,
   "metadata": {
    "executionInfo": {
     "elapsed": 7894,
     "status": "ok",
     "timestamp": 1619383698528,
     "user": {
      "displayName": "aarohi singla",
      "photoUrl": "https://lh3.googleusercontent.com/a-/AOh14GinVCmwIxUkk-7DI-N-IjLYQXXaxNYurSisyuBV=s64",
      "userId": "04137326103189398196"
     },
     "user_tz": -330
    },
    "id": "6wBh6mCmyWxA"
   },
   "outputs": [],
   "source": []
  }
 ],
 "metadata": {
  "accelerator": "GPU",
  "colab": {
   "authorship_tag": "ABX9TyOzT0pURCQNpgLb5nHJUJWK",
   "collapsed_sections": [],
   "name": "yolov4working.ipynb",
   "provenance": []
  },
  "kernelspec": {
   "display_name": "Python 3",
   "language": "python",
   "name": "python3"
  },
  "language_info": {
   "codemirror_mode": {
    "name": "ipython",
    "version": 3
   },
   "file_extension": ".py",
   "mimetype": "text/x-python",
   "name": "python",
   "nbconvert_exporter": "python",
   "pygments_lexer": "ipython3",
   "version": "3.6.8"
  }
 },
 "nbformat": 4,
 "nbformat_minor": 1
}